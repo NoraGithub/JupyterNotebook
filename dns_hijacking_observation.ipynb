{
 "cells": [
  {
   "cell_type": "code",
   "execution_count": 2,
   "metadata": {
    "collapsed": false
   },
   "outputs": [
    {
     "ename": "OSError",
     "evalue": "Failed to bind family 2. Are you root?",
     "output_type": "error",
     "traceback": [
      "\u001b[1;31m---------------------------------------------------------------------------\u001b[0m",
      "\u001b[1;31mOSError\u001b[0m                                   Traceback (most recent call last)",
      "\u001b[1;32m<ipython-input-2-0d88f28fe798>\u001b[0m in \u001b[0;36m<module>\u001b[1;34m()\u001b[0m\n\u001b[0;32m     16\u001b[0m        \u001b[0mtraceback\u001b[0m\u001b[1;33m.\u001b[0m\u001b[0mprint_exc\u001b[0m\u001b[1;33m(\u001b[0m\u001b[1;33m)\u001b[0m\u001b[1;33m\u001b[0m\u001b[0m\n\u001b[0;32m     17\u001b[0m        \u001b[0mnfqueue_element\u001b[0m\u001b[1;33m.\u001b[0m\u001b[0maccept\u001b[0m\u001b[1;33m(\u001b[0m\u001b[1;33m)\u001b[0m\u001b[1;33m\u001b[0m\u001b[0m\n\u001b[1;32m---> 18\u001b[1;33m \u001b[0mnfqueue\u001b[0m \u001b[1;33m=\u001b[0m \u001b[0mNetfilterQueue\u001b[0m\u001b[1;33m(\u001b[0m\u001b[1;33m)\u001b[0m\u001b[1;33m\u001b[0m\u001b[0m\n\u001b[0m\u001b[0;32m     19\u001b[0m \u001b[0mnfqueue\u001b[0m\u001b[1;33m.\u001b[0m\u001b[0mbind\u001b[0m\u001b[1;33m(\u001b[0m\u001b[1;36m0\u001b[0m\u001b[1;33m,\u001b[0m \u001b[0msmuggle_packet\u001b[0m\u001b[1;33m)\u001b[0m\u001b[1;33m\u001b[0m\u001b[0m\n\u001b[0;32m     20\u001b[0m \u001b[1;32mdef\u001b[0m \u001b[0mclean_up\u001b[0m\u001b[1;33m(\u001b[0m\u001b[1;33m*\u001b[0m\u001b[0margs\u001b[0m\u001b[1;33m)\u001b[0m\u001b[1;33m:\u001b[0m\u001b[1;33m\u001b[0m\u001b[0m\n",
      "\u001b[1;32mnetfilterqueue.pyx\u001b[0m in \u001b[0;36mnetfilterqueue.NetfilterQueue.__cinit__ (netfilterqueue.c:3733)\u001b[1;34m()\u001b[0m\n",
      "\u001b[1;31mOSError\u001b[0m: Failed to bind family 2. Are you root?"
     ]
    }
   ],
   "source": [
    "from netfilterqueue import NetfilterQueue\n",
    "import subprocess\n",
    "import signal\n",
    "import traceback\n",
    "import socket   \n",
    "IMPERSONATOR_IP = 'x.x.x.x'\n",
    "IMPERSONATOR_PORT = 19840\n",
    "udp_socket = socket.socket(socket.AF_INET, socket.SOCK_DGRAM, socket.IPPROTO_UDP)   \n",
    "def smuggle_packet(nfqueue_element):\n",
    "   try:\n",
    "       original_packet = nfqueue_element.get_payload()\n",
    "       print('smuggled')\n",
    "       udp_socket.sendto(original_packet, (IMPERSONATOR_IP, IMPERSONATOR_PORT))\n",
    "       nfqueue_element.drop()\n",
    "   except:\n",
    "       traceback.print_exc()\n",
    "       nfqueue_element.accept()   \n",
    "nfqueue = NetfilterQueue()\n",
    "nfqueue.bind(0, smuggle_packet)   \n",
    "def clean_up(*args):\n",
    "   subprocess.call('iptables -D OUTPUT -p udp --dst 8.8.8.8 --dport 53 -j QUEUE', shell=True)   \n",
    "signal.signal(signal.SIGINT, clean_up)   \n",
    "try:\n",
    "   subprocess.call('iptables -I OUTPUT -p udp --dst 8.8.8.8 --dport 53 -j QUEUE', shell=True)\n",
    "   print('running..')\n",
    "   nfqueue.run()\n",
    "except KeyboardInterrupt:\n",
    "   print('bye')\n"
   ]
  },
  {
   "cell_type": "code",
   "execution_count": null,
   "metadata": {
    "collapsed": true
   },
   "outputs": [],
   "source": []
  }
 ],
 "metadata": {
  "kernelspec": {
   "display_name": "Python 2",
   "language": "python",
   "name": "python2"
  },
  "language_info": {
   "codemirror_mode": {
    "name": "ipython",
    "version": 2
   },
   "file_extension": ".py",
   "mimetype": "text/x-python",
   "name": "python",
   "nbconvert_exporter": "python",
   "pygments_lexer": "ipython2",
   "version": "2.7.11"
  }
 },
 "nbformat": 4,
 "nbformat_minor": 0
}
