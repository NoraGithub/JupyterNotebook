{
 "cells": [
  {
   "cell_type": "code",
   "execution_count": 2,
   "metadata": {
    "collapsed": false
   },
   "outputs": [
    {
     "name": "stdout",
     "output_type": "stream",
     "text": [
      "                  Open        High         Low       Close     Volume  \\\n",
      "Date                                                                    \n",
      "2015-06-09  208.449997  209.100006  207.690002  208.449997  105034700   \n",
      "2015-06-10  209.369995  211.410004  209.300003  210.949997  134551300   \n",
      "2015-06-11  211.479996  212.089996  211.199997  211.630005   73876400   \n",
      "2015-06-12  210.639999  211.479996  209.679993  210.009995  135382400   \n",
      "2015-06-15  208.639999  209.449997  207.789993  209.110001  124384200   \n",
      "\n",
      "             Adj Close  \n",
      "Date                    \n",
      "2015-06-09  200.834408  \n",
      "2015-06-10  203.243072  \n",
      "2015-06-11  203.898236  \n",
      "2015-06-12  202.337412  \n",
      "2015-06-15  201.470299  \n"
     ]
    }
   ],
   "source": [
    "from __future__ import  print_function\n",
    "import datetime\n",
    "import pandas.io.data as web\n",
    "\n",
    "if __name__==\"__main__\":\n",
    "    spy=web.DataReader(\n",
    "        'SPY','yahoo',\n",
    "        datetime.datetime(2007,1,1),\n",
    "        datetime.datetime(2015,6,15)\n",
    "    )\n",
    "    print(spy.tail())"
   ]
  },
  {
   "cell_type": "markdown",
   "metadata": {},
   "source": [
    "# 拉勾数据爬取\n",
    "## 需求信息：\n",
    "希望了解目前求职市场不同行业有什么公司以及规模，这些公司对职位的需求情况。\n",
    "## 库/表设计：\n",
    "\n",
    "- lagou\n",
    "    - company\n",
    "|ID|CompanyName|FoundTime|Location|Stage|TeamScale|Industry|\n",
    "|:--:|:--:|:--:|:--:|:--:|:--:|:--:|\n",
    "|...|...|...|...|...|...|...|\n",
    "|...|...|...|...|...|...|...|\n",
    "    \n",
    "    - position\n",
    "|ID|PositionName|Salary|Experiece|CreatedTime|LastUpdatedTime|\n",
    "|:--:|:--:|:--:|:--:|:--:|:--:|\n",
    "|...|...|...|...|...|...|\n",
    "|...|...|...|...|...|...|\n",
    "    \n",
    "    - CPRTable\n",
    "|CompanyID|PositionID|\n",
    "|:--:|:--:|\n",
    "|...|...|\n",
    "|...|...|\n",
    "\n",
    "mysql:\n",
    "CREATE DATABASE lagou;\n",
    "USE lagou;\n",
    "CREATE TABLE company   ( \n",
    "ID int NOT NULL AUTO_INCREMENT, \n",
    "CompanyName varchar(32) NOT NULL, \n",
    "FoundTime varchar(32) NOT NULL, \n",
    "Location varchar(32) NOT NULL, \n",
    "Stage varchar(32) NOT NULL, \n",
    "TeamScale varchar(32) NOT NULL, \n",
    "Industry varchar(32) NOT NULL, \n",
    "PRIMARY KEY(ID) )ENGINE=InnoDB AUTO_INCREMENT=1 DEFAULT CHARSET=utf8;\n",
    "\n",
    "CREATE TABLE position   ( \n",
    "ID int NOT NULL AUTO_INCREMENT, \n",
    "PositionName varchar(32) NOT NULL, \n",
    "Salary varchar(32) NOT NULL, \n",
    "Experiece varchar(32) NOT NULL, \n",
    "CreatedTime varchar(32)  NULL, \n",
    "LastUpdatedTime varchar(32)  NULL, \n",
    "PRIMARY KEY(ID) )ENGINE=InnoDB AUTO_INCREMENT=1 DEFAULT CHARSET=utf8;\n",
    "\n",
    "http://www.jianshu.com/p/6a9432ace737\n",
    "http://www.jianshu.com/p/8708c5accba8\n",
    "公司：https://www.lagou.com/gongsi/3-0-0.json\n",
    "companyid：https://www.lagou.com/gongsi/18643.html\n",
    "（失效？）：https://www.lagou.com/jobs/companyAjax.json?px=new&jd=A%E8%BD%AE&needAddtionalResult=false\n",
    "职位：https://www.lagou.com/jobs/positionAjax.json?needAddtionalResult=false\n",
    "原始表需要＋团队背景\n",
    "\n",
    "https://www.zhihu.com/question/36132174\n",
    "https://segmentfault.com/a/1190000005778518\n",
    "https://github.com/caitinggui/login/blob/master/lagou_python.py\n",
    "https://www.google.com.hk/search?newwindow=1&c2coff=1&site=&source=hp&q=http:%2F%2Fwww.lagou.com%2Fjobs%2FcompanyAjax.json%3F&oq=http:%2F%2Fwww.lagou.com%2Fjobs%2FcompanyAjax.json%3F&gs_l=hp.3...335.335.0.404.2.2.0.0.0.0.79.79.1.1.0....0...1c.1.64.hp..1.0.0.0.OYLzHgAnQUI&bav=on.2,or.r_cp.&bvm=bv.142059868,d.dGo&biw=1440&bih=705&dpr=1&ech=1&psi=WBVWWKmNFojt0gSty6_4DA.1482036568935.3&ei=WBVWWKmNFojt0gSty6_4DA&emsg=NCSR&noj=1\n",
    "http://www.cnblogs.com/Lands-ljk/p/5357746.html\n",
    "https://www.google.com.hk/search?newwindow=1&c2coff=1&safe=strict&hl=zh-CN&q=%E6%8B%89%E5%8B%BE+%E5%8F%8D%E7%88%AC%E8%99%AB&oq=%E6%8B%89%E5%8B%BE+%E5%8F%8D%E7%88%AC%E8%99%AB&gs_l=serp.3...2300.4332.0.4499.5.5.0.0.0.0.96.353.5.5.0....0...1c.1j4.64.serp..0.2.173...0i12k1j30i10k1.or9rzoef9vs\n",
    "https://www.v2ex.com/t/259458"
   ]
  },
  {
   "cell_type": "code",
   "execution_count": 8,
   "metadata": {
    "collapsed": false
   },
   "outputs": [
    {
     "data": {
      "text/plain": [
       "200"
      ]
     },
     "execution_count": 8,
     "metadata": {},
     "output_type": "execute_result"
    }
   ],
   "source": [
    "import requests\n",
    "r = requests.get('https://www.lagou.com')\n",
    "r.status_code"
   ]
  },
  {
   "cell_type": "code",
   "execution_count": null,
   "metadata": {
    "collapsed": true
   },
   "outputs": [],
   "source": [
    "\n",
    "import os\n",
    "import json\n",
    "import requests\n",
    "import datetime\n",
    "from pyquery import PyQuery as pq\n",
    "from openpyxl import Workbook\n",
    "from openpyxl import load_workbook\n",
    "\n",
    "\n",
    "#获取城市ID列表\n",
    "def get_cityId_list(url):\n",
    "    city_list = []\n",
    "    html = pq(url= url)\n",
    "    for areaId in html.find('#filterCollapse').find('div[class=\"has-more workcity\"]').eq(0).find('div[class=\"more more-positions\"]').find(\"a[data-lg-tj-cid='idnull']\"):\n",
    "        # 修改页面中获取城市id的值的方法 :有原来的通过url获取 改为通过data_id属性获取\n",
    "        aId = pq(areaId).attr(\"data-id\")\n",
    "        if(aId=='1'):\n",
    "            continue\n",
    "        city_list.append(aId)\n",
    "    return city_list\n",
    "\n",
    "#获取城市名称列表\n",
    "def get_city_name_list(u):\n",
    "    city_name_list = []\n",
    "    url = 'http://www.lagou.com/gongsi/'\n",
    "    html = pq(url=url)\n",
    "    for areaId in html.find('#filterCollapse').find('div[class=\"has-more workcity\"]').eq(0).find('div[class=\"more more-positions\"]').find(\"a[data-lg-tj-cid='idnull']\"):\n",
    "        area_name=pq(areaId).html()\n",
    "        if area_name==\"全国\":\n",
    "            continue\n",
    "        city_name_list.append(area_name)\n",
    "    return city_name_list\n",
    "\n",
    "#获取城市下一共有多少页\n",
    "def get_city_page(areaId,page_num):\n",
    "    try:\n",
    "        param = {'first': 'false', 'pn': page_num, 'sortField': '0', 'havemark': '0'} #访问参数\n",
    "        r = requests.post('http://www.lagou.com/gongsi/'+areaId+'-0-0.json',params=param ) #requsets请求\n",
    "        page_num += 1\n",
    "        if(len(r.json()['result'])/16==1):\n",
    "            return get_city_page(areaId,page_num)\n",
    "        else:\n",
    "            return page_num\n",
    "    except:\n",
    "        return page_num-1\n",
    "\n",
    "#根据城市ID获取所有公司信息\n",
    "def get_company_list(areaId):\n",
    "    company_list = []\n",
    "    city_page_total=get_city_page(areaId,1)\n",
    "    for pageIndex in range(1,city_page_total):\n",
    "        print('正在爬取第'+str(pageIndex)+'页')\n",
    "        json_url = 'http://www.lagou.com/gongsi/'+areaId+'-0-0.json'\n",
    "        param = {'first': 'false', 'pn': str(pageIndex), 'sortField': '0', 'havemark': '0'} #访问参数\n",
    "        r = requests.post(json_url,params=param ) #requsets请求\n",
    "        msg = json.loads(r.text)\n",
    "        try:\n",
    "            for company in msg['result']:\n",
    "               company_list.append([company['city'],company['cityScore'],company['companyFeatures'],company['companyId'],company['companyLabels'],company['companyLogo'],company['companyName'],str(company['companyPositions']),company['companyShortName'],company['countryScore'],company['createTime'],company['finaceStage'],company['industryField'],company['interviewRemarkNum'],company['otherLabels'], company['positionNum'],company['processRate'],str(datetime.datetime.now())])\n",
    "        except:\n",
    "            print('爬取编号为'+str(areaId)+'城市时第'+str(pageIndex)+'页出现了错误,错误时请求返回内容为：'+str(msg))\n",
    "            continue\n",
    "    return company_list\n"
   ]
  }
 ],
 "metadata": {
  "kernelspec": {
   "display_name": "Python 2",
   "language": "python",
   "name": "python2"
  },
  "language_info": {
   "codemirror_mode": {
    "name": "ipython",
    "version": 2
   },
   "file_extension": ".py",
   "mimetype": "text/x-python",
   "name": "python",
   "nbconvert_exporter": "python",
   "pygments_lexer": "ipython2",
   "version": "2.7.11"
  }
 },
 "nbformat": 4,
 "nbformat_minor": 0
}
